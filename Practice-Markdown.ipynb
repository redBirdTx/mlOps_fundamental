{
  "cells": [
    {
      "cell_type": "markdown",
      "metadata": {
        "id": "3TfmN9kO_XjC"
      },
      "source": [
        "## Practice Markdown"
      ]
    },
    {
      "cell_type": "markdown",
      "metadata": {
        "id": "Px-DBGjf_XjD"
      },
      "source": [
        "This notebook lets you experiment with producing repeatable technical documentation.  Use this notebook to do the following actions:\n",
        "\n",
        "* Create a code cell and print a Python Hello World statement:  `print(\"hello world\")`\n",
        "* Create a Markdown Cell and add a Title using `#` and then a statement using plain text.  You can looks at the source code for this cell to get an idea of how to use Markdown.\n",
        "* Take some ideas from the [Master Markdown Github Guide](https://guides.github.com/features/mastering-markdown/) and implement them here.\n",
        "* Download this notebook as a `.ipynb` file and check into a Github Project.  You can [see an example here](https://github.com/noahgift/duke-coursera-ccf-lab1/blob/main/Practice-Markdown.ipynb).\n",
        "* Open your notebook in Google Colab and save it into the same Github Project.  You can [see an example here](https://github.com/noahgift/duke-coursera-ccf-lab1/blob/main/Practice_Markdown_with_colab.ipynb).\n"
      ]
    },
    {
      "cell_type": "code",
      "execution_count": 1,
      "metadata": {
        "id": "gZjxlvLd_XjD",
        "outputId": "457e2fe2-cb40-4a86-ad90-4d5f2c7f76c9",
        "colab": {
          "base_uri": "https://localhost:8080/"
        }
      },
      "outputs": [
        {
          "output_type": "stream",
          "name": "stdout",
          "text": [
            "hello world from Ellen\n"
          ]
        }
      ],
      "source": [
        "print(\"hello world from Ellen\")\n"
      ]
    },
    {
      "cell_type": "code",
      "source": [
        "import os\n",
        "print(os.path)"
      ],
      "metadata": {
        "id": "3b9TiOcU_sBg",
        "outputId": "257e0292-d57d-4c56-cf1c-cf24cbd4b664",
        "colab": {
          "base_uri": "https://localhost:8080/"
        }
      },
      "execution_count": 2,
      "outputs": [
        {
          "output_type": "stream",
          "name": "stdout",
          "text": [
            "<module 'posixpath' from '/usr/lib/python3.10/posixpath.py'>\n"
          ]
        }
      ]
    },
    {
      "cell_type": "markdown",
      "metadata": {
        "id": "0kW4riM8_XjE"
      },
      "source": [
        "# first level heading\n",
        "## second level heading"
      ]
    }
  ],
  "metadata": {
    "kernelspec": {
      "display_name": "Python 3",
      "language": "python",
      "name": "python3"
    },
    "language_info": {
      "codemirror_mode": {
        "name": "ipython",
        "version": 3
      },
      "file_extension": ".py",
      "mimetype": "text/x-python",
      "name": "python",
      "nbconvert_exporter": "python",
      "pygments_lexer": "ipython3",
      "version": "3.7.6"
    },
    "colab": {
      "provenance": []
    }
  },
  "nbformat": 4,
  "nbformat_minor": 0
}